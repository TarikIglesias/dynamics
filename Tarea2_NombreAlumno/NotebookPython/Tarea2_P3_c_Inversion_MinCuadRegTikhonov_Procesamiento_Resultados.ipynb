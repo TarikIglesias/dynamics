{
 "cells": [
  {
   "cell_type": "markdown",
   "metadata": {},
   "source": [
    "# Pregunta 3  Tarea 2\n",
    "# Tercera Parte: Analisis Resultados Inversión \n",
    "\n",
    "## GF5013 - Metodos Inversos Aplicados a la Geofisica\n",
    "## Primavera 2019\n",
    "### Prof. Francisco Hernán Ortega Culaciati \n",
    "### ortega.francisco@uchile.cl\n",
    "### Departamento de Geofísica - FCFM\n",
    "### Universidad de Chile\n",
    "### Octubre de 2019\n",
    "\n",
    "Nombre Alumno: XXXX YYYY"
   ]
  },
  {
   "cell_type": "raw",
   "metadata": {},
   "source": [
    "from IPython.display import HTML\n",
    "\n",
    "HTML('''<script>\n",
    "code_show=true; \n",
    "function code_toggle() {\n",
    "if (code_show){\n",
    "$('div.input').hide();\n",
    "} else {\n",
    "$('div.input').show();\n",
    "}\n",
    "code_show = !code_show\n",
    "} \n",
    "$( document ).ready(code_toggle);\n",
    "</script>\n",
    "<form action=\"javascript:code_toggle()\"><input type=\"submit\" value=\"Esconder/Visualizar código fuente\"></form>''')"
   ]
  },
  {
   "cell_type": "code",
   "execution_count": null,
   "metadata": {},
   "outputs": [],
   "source": [
    "import sys, os\n",
    "pathTarea2 = '../'\n",
    "pathPaquetesPython = pathTarea2 + '/PaquetesPython'\n",
    "TomoDataFilename = pathTarea2 + '/datosTomo/datosTomografia.txt'\n",
    "\n",
    "sys.path.append(os.path.abspath(pathPaquetesPython))\n",
    "\n"
   ]
  },
  {
   "cell_type": "code",
   "execution_count": null,
   "metadata": {},
   "outputs": [],
   "source": [
    "import matplotlib\n",
    "# descomentar esto es para hacer los plots interactivos en el notebook\n",
    "%matplotlib notebook \n",
    "# descomentar esto es para hacer los plots afuera del notebook\n",
    "#%matplotlib tk  \n",
    "import matplotlib.pyplot as plt\n",
    "import numpy as NP\n",
    "\n",
    "from Tarea2.TomoData import readTravelTimeData as readTTdata\n",
    "from Tarea2 import TomographyModel as Tmodel\n",
    "import Tarea2\n",
    "import GF5013\n",
    "import pickle"
   ]
  },
  {
   "cell_type": "markdown",
   "metadata": {},
   "source": [
    "## Cargar los resultados de la inversión"
   ]
  },
  {
   "cell_type": "code",
   "execution_count": null,
   "metadata": {},
   "outputs": [],
   "source": [
    "# nombre del archivo \"pickle\" donde guardar los datos de interés\n",
    "PickleFilename = \"Tomo_Result_Inversion.pickle\"\n",
    "PickleFile = open(PickleFilename, 'rb') # must be a binary file w: writable, b: binary\n",
    "data2load = pickle.load(PickleFile)\n",
    "PickleFile.close()\n",
    "\n",
    "# leer variables\n",
    "H = data2load['H']\n",
    "ho = data2load['ho'] \n",
    "Wh = data2load['Wh'] \n",
    "\n",
    "Wx = data2load['Wx'] \n",
    "d = data2load['d'] \n",
    "G = data2load['G'] \n",
    "\n",
    "EPSILONS = data2load['EPSILONS']\n",
    "Nepsilons = len(EPSILONS)\n",
    "m_estimados = data2load['m_estimados'] \n",
    "\n",
    "mesh = data2load['mesh']\n",
    "\n",
    "Ndata, Npar = G.shape\n",
    "\n"
   ]
  },
  {
   "cell_type": "markdown",
   "metadata": {},
   "source": [
    "## Calcular y Graficar la Curva L"
   ]
  },
  {
   "cell_type": "code",
   "execution_count": null,
   "metadata": {
    "scrolled": false
   },
   "outputs": [],
   "source": [
    "# initialize containers\n",
    "Norm_Misfit_E = NP.zeros((Nepsilons, 1))\n",
    "Norm_Reg_L = NP.zeros((Nepsilons, 1))\n",
    "\n",
    "# compute values for L curve\n",
    "\n",
    "for i in range(0, Nepsilons):\n",
    "    epsilon = EPSILONS[i]\n",
    "    m_est = m_estimados[:,i].reshape((Npar,1))\n",
    "    \n",
    "    Norm_Misfit_E[i] = #COMPLETAR\n",
    "    Norm_Reg_L[i] =   #COMPLETAR \n",
    "\n",
    "# plot L curve\n",
    "fig = plt.figure(1)\n",
    "ax = fig.add_subplot(1,1,1)\n",
    "ax.loglog(Norm_Reg_L, Norm_Misfit_E, '.-b')\n",
    "ax.set_xlabel('Regularization Norm')\n",
    "ax.set_ylabel('Misfit Norm')\n",
    "# plot index of epsilon\n",
    "for i in range(0,Nepsilons):\n",
    "    ax.text(Norm_Reg_L[i], Norm_Misfit_E[i], str(i))\n",
    "#plt.axis('equal')\n",
    "fig.show()\n"
   ]
  },
  {
   "cell_type": "code",
   "execution_count": null,
   "metadata": {},
   "outputs": [],
   "source": []
  },
  {
   "cell_type": "code",
   "execution_count": null,
   "metadata": {
    "scrolled": false
   },
   "outputs": [],
   "source": []
  },
  {
   "cell_type": "code",
   "execution_count": null,
   "metadata": {},
   "outputs": [],
   "source": []
  },
  {
   "cell_type": "markdown",
   "metadata": {},
   "source": [
    "## Graficar las soluciones\n"
   ]
  },
  {
   "cell_type": "code",
   "execution_count": null,
   "metadata": {},
   "outputs": [],
   "source": [
    "I_inversion = 144\n",
    "F = 1/m_estimados[:, I_inversion]  \n",
    "colorlim = [0, NP.max(F)]\n",
    "fig = plt.figure(2)\n",
    "fig.clear()\n",
    "ax = plt.subplot(111)\n",
    "fig, ax = Tarea2.Mesh.plotRectMeshField(F, mesh, fig, ax , colorlim = None, \\\n",
    "                                 title = \"Modelo Estimado - epsilon = {:.3e}\".format(EPSILONS[I_inversion]),\\\n",
    "                                 colorbar_label = 'Velocity ', xlabel = 'X [m]',\\\n",
    "                                 ylabel = 'Y [m]', colormap = 'gray')\n",
    "fig.show()\n",
    "\n"
   ]
  },
  {
   "cell_type": "code",
   "execution_count": null,
   "metadata": {},
   "outputs": [],
   "source": []
  },
  {
   "cell_type": "markdown",
   "metadata": {
    "collapsed": true
   },
   "source": [
    "# COMPLETAR"
   ]
  },
  {
   "cell_type": "code",
   "execution_count": null,
   "metadata": {},
   "outputs": [],
   "source": []
  },
  {
   "cell_type": "code",
   "execution_count": null,
   "metadata": {},
   "outputs": [],
   "source": []
  }
 ],
 "metadata": {
  "kernelspec": {
   "display_name": "Python 3",
   "language": "python",
   "name": "python3"
  },
  "language_info": {
   "codemirror_mode": {
    "name": "ipython",
    "version": 3
   },
   "file_extension": ".py",
   "mimetype": "text/x-python",
   "name": "python",
   "nbconvert_exporter": "python",
   "pygments_lexer": "ipython3",
   "version": "3.7.4"
  }
 },
 "nbformat": 4,
 "nbformat_minor": 2
}
