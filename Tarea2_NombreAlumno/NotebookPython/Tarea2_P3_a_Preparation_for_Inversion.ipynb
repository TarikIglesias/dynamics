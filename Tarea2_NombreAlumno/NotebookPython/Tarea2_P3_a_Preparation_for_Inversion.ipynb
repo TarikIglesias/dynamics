{
 "cells": [
  {
   "cell_type": "markdown",
   "metadata": {},
   "source": [
    "# Pregunta 3  Tarea 2\n",
    "# Primera Parte: Preparar información necesaria para la Inversión\n",
    "\n",
    "\n",
    "\n",
    "## GF5013 - Metodos Inversos Aplicados a la Geofisica\n",
    "## Primavera 2019\n",
    "### Prof. Francisco Hernán Ortega Culaciati \n",
    "### ortega.francisco@uchile.cl\n",
    "### Departamento de Geofísica - FCFM\n",
    "### Universidad de Chile\n",
    "### Octubre de 2019\n",
    "\n",
    "Nombre Alumno: XXXX YYYY"
   ]
  },
  {
   "cell_type": "raw",
   "metadata": {},
   "source": [
    "from IPython.display import HTML\n",
    "\n",
    "HTML('''<script>\n",
    "code_show=true; \n",
    "function code_toggle() {\n",
    "if (code_show){\n",
    "$('div.input').hide();\n",
    "} else {\n",
    "$('div.input').show();\n",
    "}\n",
    "code_show = !code_show\n",
    "} \n",
    "$( document ).ready(code_toggle);\n",
    "</script>\n",
    "<form action=\"javascript:code_toggle()\"><input type=\"submit\" value=\"Esconder/Visualizar código fuente\"></form>''')"
   ]
  },
  {
   "cell_type": "code",
   "execution_count": null,
   "metadata": {},
   "outputs": [],
   "source": [
    "import sys, os\n",
    "pathTarea2 = '../'\n",
    "pathPaquetesPython = pathTarea2 + '/PaquetesPython'\n",
    "TomoDataFilename = pathTarea2 + '/datosTomo/datosTomografia.txt'\n",
    "\n",
    "sys.path.append(os.path.abspath(pathPaquetesPython))\n",
    "\n"
   ]
  },
  {
   "cell_type": "code",
   "execution_count": null,
   "metadata": {},
   "outputs": [],
   "source": [
    "import matplotlib\n",
    "# descomentar esto es para hacer los plots interactivos en el notebook\n",
    "%matplotlib notebook \n",
    "# descomentar esto es para hacer los plots afuera del notebook\n",
    "#%matplotlib tk  \n",
    "import matplotlib.pyplot as plt\n",
    "import numpy as NP\n",
    "\n",
    "from Tarea2.TomoData import readTravelTimeData as readTTdata\n",
    "from Tarea2 import TomographyModel as Tmodel\n",
    "import Tarea2\n",
    "import GF5013"
   ]
  },
  {
   "cell_type": "markdown",
   "metadata": {},
   "source": [
    "## Definir la malla del problema"
   ]
  },
  {
   "cell_type": "code",
   "execution_count": null,
   "metadata": {},
   "outputs": [],
   "source": []
  },
  {
   "cell_type": "code",
   "execution_count": null,
   "metadata": {},
   "outputs": [],
   "source": [
    "Xmin = 0\n",
    "Xmax = 100\n",
    "Nx = 21\n",
    "\n",
    "Zmin = -200\n",
    "Zmax = 0\n",
    "Nz = 43\n",
    "\n",
    "mesh = Tmodel.define_Tomography_RectangularMesh(Xmin = Xmin, Xmax = Xmax, Nx = Nx, Zmin = Zmin, Zmax = Zmax, Nz = Nz)\n"
   ]
  },
  {
   "cell_type": "markdown",
   "metadata": {},
   "source": [
    "## Formar matriz de diseño del problema de tomografía lineal"
   ]
  },
  {
   "cell_type": "code",
   "execution_count": null,
   "metadata": {
    "scrolled": false
   },
   "outputs": [],
   "source": [
    "# LEER DATOS TOMOGRAFIA\n",
    "TTdata = readTTdata(TomoDataFilename)\n",
    "# Coordenadas Fuentes\n",
    "xF = TTdata['xF']\n",
    "zF = TTdata['zF']\n",
    "# Coordenadas Receptores\n",
    "xR = TTdata['xR']\n",
    "zR = TTdata['zR']\n",
    "# Tiempo de Viaje\n",
    "TV = TTdata['TV']\n",
    "\n",
    "import timeit\n",
    "startTime = timeit.default_timer()\n",
    "\n",
    "# formar matriz G y vector de datos G (ESTO SE DEMORA ENTRE 1 y 2 MINUTOS!!!)\n",
    "G, d, rays = Tmodel.formar_G(xF, zF, xR, zR, TV, mesh, fractional_precision=0.01)\n",
    "\n",
    "stopTime = timeit.default_timer()\n",
    "totalTime = stopTime - startTime\n",
    "mins, secs = divmod(totalTime, 60)\n",
    "hours, mins = divmod(mins, 60)\n",
    "print(\"Total running time: {:02d}:{:02d}:{:02d}.\\n\".format(int(hours), int(mins), int(secs)))"
   ]
  },
  {
   "cell_type": "code",
   "execution_count": null,
   "metadata": {},
   "outputs": [],
   "source": [
    "# Graficar la norma de las columnas de la matrix G (una medida de la densidad de rayos\n",
    "# que pasa por cada casillero)\n",
    "Ndata, Npar = G.shape\n",
    "F = NP.diag( G.T.dot(G) ).reshape((Npar,1) ) # se grafica la norma de las funciones de green en cada casillero\n",
    "F = NP.sqrt(F)  \n",
    "colorlim = [0, NP.max(F)]\n",
    "fig = plt.figure(1)\n",
    "fig.clear()\n",
    "ax = plt.subplot(111)\n",
    "fig, ax = Tarea2.Mesh.plotRectMeshField(F, mesh, fig, ax , colorlim = colorlim, \\\n",
    "                                 title = \"Norma de las columnas de G\",\\\n",
    "                                 colorbar_label = 'Norma de G[:,i] ', xlabel = 'X [m]',\\\n",
    "                                 ylabel = 'Y [m]', colormap = 'nipy_spectral')\n",
    "fig.show()"
   ]
  },
  {
   "cell_type": "code",
   "execution_count": null,
   "metadata": {
    "scrolled": false
   },
   "outputs": [],
   "source": [
    "# generar datos sinteticos # NO MODIFIQUE LA LINEA SIGUIENTE!!!\n",
    "d_syn, m_syn =  Tmodel.calcCheckerboardSynthetic(mesh, G, shift=[16.156, 16.156], scale=33.333)\n",
    "# para la matrix de covarianza de los datos Cd se asume que las observaciones son iid con desviación estandar igual A\n",
    "A = 1\n",
    "# matriz de covarianza de los datos\n",
    "Cd = # COMPLETAR\n",
    "# errores de la predicción del modelo (se asume un modelo perfecto)\n",
    "Cp = # COMPLETAR\n",
    "# Matriz de covarianza del ajuste\n",
    "Cx = # COMPLETAR\n",
    "\n",
    "# dibujar la malla con el modelo sintético\n",
    "F = 1/m_syn # se grafica la velocidad ( no la lentitud)\n",
    "fig = plt.figure(2)\n",
    "fig.clear()\n",
    "ax = plt.subplot(111)\n",
    "fig, ax = Tarea2.Mesh.plotRectMeshField(F, mesh, fig, ax , colorlim = None, \\\n",
    "                                 title = \"Modelo Sintético\",\\\n",
    "                                 colorbar_label = 'Velocity ', xlabel = 'X [m]',\\\n",
    "                                 ylabel = 'Y [m]', colormap = 'gray')\n",
    "fig.show()"
   ]
  },
  {
   "cell_type": "markdown",
   "metadata": {},
   "source": [
    "## Definir la regularización y la matriz de pesos del ajuste"
   ]
  },
  {
   "cell_type": "code",
   "execution_count": null,
   "metadata": {},
   "outputs": [],
   "source": [
    "# REGULARIZACION: se usará Tikhonov de orden 2, para ello se define el laplaciano H\n",
    "H, Wh, ho = Tarea2.Mesh.TikhonovReg.order_2(mesh)\n",
    "\n",
    "# necesitamos definir la matriz de pesos del ajuste Wx\n",
    "inv_Cx = # COMPLETAR\n",
    "Wx = # COMPLETAR"
   ]
  },
  {
   "cell_type": "markdown",
   "metadata": {},
   "source": [
    "## Guardar los G, d, y la malla para ser usados en la inversión en otro notebook\n"
   ]
  },
  {
   "cell_type": "code",
   "execution_count": null,
   "metadata": {},
   "outputs": [],
   "source": [
    "import pickle\n",
    "# nombre del archivo \"pickle\" donde guardar los datos de interés\n",
    "PickleFilename = \"Tomo_pre_inversion_data.pickle\"\n",
    "\n",
    "# variable a guardar es un diccionario con G, d y la malla\n",
    "data2save = {}\n",
    "data2save['G'] = G\n",
    "data2save['d_syn'] = d_syn\n",
    "data2save['Cx'] = Cx\n",
    "data2save['m_syn'] = m_syn\n",
    "data2save['TTdata'] = TTdata\n",
    "data2save['mesh'] = mesh\n",
    "data2save['H'] = H\n",
    "data2save['Wh'] = Wh\n",
    "data2save['ho'] = ho\n",
    "data2save['inv_Cx'] = inv_Cx\n",
    "data2save['Wx'] = Wx\n",
    "\n",
    "# save the dictionray in the file.\n",
    "PickleFile = open(PickleFilename, 'wb') # must be a binary file w: writable, b: binary\n",
    "pickle.dump(data2save, PickleFile, pickle.HIGHEST_PROTOCOL)\n",
    "PickleFile.close()\n",
    "\n"
   ]
  },
  {
   "cell_type": "code",
   "execution_count": null,
   "metadata": {},
   "outputs": [],
   "source": []
  },
  {
   "cell_type": "code",
   "execution_count": null,
   "metadata": {},
   "outputs": [],
   "source": []
  },
  {
   "cell_type": "code",
   "execution_count": null,
   "metadata": {},
   "outputs": [],
   "source": []
  }
 ],
 "metadata": {
  "kernelspec": {
   "display_name": "Python 3",
   "language": "python",
   "name": "python3"
  },
  "language_info": {
   "codemirror_mode": {
    "name": "ipython",
    "version": 3
   },
   "file_extension": ".py",
   "mimetype": "text/x-python",
   "name": "python",
   "nbconvert_exporter": "python",
   "pygments_lexer": "ipython3",
   "version": "3.7.4"
  }
 },
 "nbformat": 4,
 "nbformat_minor": 2
}
