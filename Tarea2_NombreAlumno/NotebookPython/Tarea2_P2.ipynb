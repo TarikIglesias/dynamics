{
 "cells": [
  {
   "cell_type": "markdown",
   "metadata": {},
   "source": [
    "# Pregunta 2 Tarea 2\n",
    "\n",
    "## GF5013 - Metodos Inversos Aplicados a la Geofisica\n",
    "## Primavera 2019\n",
    "Prof. Francisco Hernán Ortega Culaciati \n",
    "\n",
    "ortega.francisco@uchile.cl\n",
    "\n",
    "Departamento de Geofísica - FCFM\n",
    "\n",
    "Universidad de Chile\n",
    "Octubre de 2019\n",
    "\n",
    "Nombre Alumno: XXXX YYYY"
   ]
  },
  {
   "cell_type": "raw",
   "metadata": {},
   "source": [
    "from IPython.display import HTML\n",
    "\n",
    "HTML('''<script>\n",
    "code_show=true; \n",
    "function code_toggle() {\n",
    "if (code_show){\n",
    "$('div.input').hide();\n",
    "} else {\n",
    "$('div.input').show();\n",
    "}\n",
    "code_show = !code_show\n",
    "} \n",
    "$( document ).ready(code_toggle);\n",
    "</script>\n",
    "<form action=\"javascript:code_toggle()\"><input type=\"submit\" value=\"Esconder/Visualizar código fuente\"></form>''')"
   ]
  },
  {
   "cell_type": "code",
   "execution_count": null,
   "metadata": {},
   "outputs": [],
   "source": [
    "import sys, os\n",
    "pathTarea2 = '../'\n",
    "pathPaquetesPython = pathTarea2 + '/PaquetesPython'\n",
    "TomoDataFilename = pathTarea2 + '/datosTomo/datosTomografia.txt'\n",
    "\n",
    "sys.path.append(os.path.abspath(pathPaquetesPython))\n"
   ]
  },
  {
   "cell_type": "code",
   "execution_count": null,
   "metadata": {},
   "outputs": [],
   "source": [
    "import matplotlib\n",
    "%matplotlib notebook\n",
    "# descomentar esto es para hacer los plots afuera del notebook\n",
    "#%matplotlib tk  \n",
    "\n",
    "\n",
    "import matplotlib.pyplot as plt\n",
    "import numpy as NP\n",
    "\n",
    "from Tarea2.TomoData import readTravelTimeData as readTTdata\n",
    "from Tarea2 import TomographyModel as Tmodel\n",
    "import Tarea2\n",
    "import GF5013"
   ]
  },
  {
   "cell_type": "markdown",
   "metadata": {},
   "source": [
    "## Definir la malla del problema"
   ]
  },
  {
   "cell_type": "code",
   "execution_count": null,
   "metadata": {},
   "outputs": [],
   "source": [
    "Xmin = 0\n",
    "Xmax = 100\n",
    "Nx = 9\n",
    "Zmin = -200\n",
    "Zmax = 0\n",
    "Nz = 15\n",
    "\n",
    "mesh = Tmodel.define_Tomography_RectangularMesh(Xmin = Xmin, Xmax = Xmax, Nx = Nx, Zmin = Zmin, Zmax = Zmax, Nz = Nz)\n"
   ]
  },
  {
   "cell_type": "markdown",
   "metadata": {},
   "source": [
    "## Formar matriz de diseño del problema de tomografía lineal"
   ]
  },
  {
   "cell_type": "code",
   "execution_count": null,
   "metadata": {},
   "outputs": [],
   "source": [
    "# LEER DATOS TOMOGRAFIA\n",
    "TTdata = readTTdata(TomoDataFilename)\n",
    "# Coordenadas Fuentes\n",
    "xF = TTdata['xF']\n",
    "zF = TTdata['zF']\n",
    "# Coordenadas Receptores\n",
    "xR = TTdata['xR']\n",
    "zR = TTdata['zR']\n",
    "# Tiempo de Viaje\n",
    "TV = TTdata['TV']\n",
    "\n",
    "# formar matriz G y vector de datos G\n",
    "G, d, rays = Tmodel.formar_G(xF, zF, xR, zR, TV, mesh, fractional_precision=0.01)\n"
   ]
  },
  {
   "cell_type": "code",
   "execution_count": null,
   "metadata": {
    "scrolled": false
   },
   "outputs": [],
   "source": [
    "# generar datos sinteticos\n",
    "d_syn, m_syn =  Tmodel.calcCheckerboardSynthetic(mesh, G, shift=[16.156, 16.156], scale=33.333)\n",
    "# dibujar la malla con el modelo sintético\n",
    "F = 1/m_syn # se grafica la velocidad ( no la lentitud)\n",
    "fig = plt.figure(1)\n",
    "fig.clear()\n",
    "ax = plt.subplot(111)\n",
    "fig, ax = Tarea2.Mesh.plotRectMeshField(F, mesh, fig, ax , colorlim = None, \\\n",
    "                                 title = \"Modelo Sintético\",\\\n",
    "                                 colorbar_label = 'Velocity ', xlabel = 'X [m]',\\\n",
    "                                 ylabel = 'Y [m]', colormap = 'gray')\n",
    "fig.show()"
   ]
  },
  {
   "cell_type": "markdown",
   "metadata": {},
   "source": [
    "## P2 (a) Inversion no regularizada sin ruido\n"
   ]
  },
  {
   "cell_type": "code",
   "execution_count": null,
   "metadata": {},
   "outputs": [],
   "source": [
    "m_MCS_no_ruido = GF5013.optim.MinCuad.MinCuadSimple(G,d_syn)"
   ]
  },
  {
   "cell_type": "code",
   "execution_count": null,
   "metadata": {},
   "outputs": [],
   "source": [
    "# (a) dibujar la malla con el modelo estimado con los datos SIN ruido\n",
    "F = 1/m_MCS_no_ruido['m'] # se grafica la velocidad ( no la lentitud)\n",
    "colorlim = None # [3,5]\n",
    "fig = plt.figure(2)\n",
    "fig.clear()\n",
    "ax = plt.subplot(111)\n",
    "fig, ax = Tarea2.Mesh.plotRectMeshField(F, mesh, fig, ax , colorlim = colorlim, \\\n",
    "                                 title = \"Modelo Sintético\",\\\n",
    "                                 colorbar_label = 'Velocity ', xlabel = 'X [m]', ylabel = 'Z [m]', colormap = 'gray')\n",
    "fig.show()"
   ]
  },
  {
   "cell_type": "markdown",
   "metadata": {},
   "source": [
    "Comentarios Aquí: "
   ]
  },
  {
   "cell_type": "markdown",
   "metadata": {
    "collapsed": true
   },
   "source": [
    "## P2 (b) Inversión no regularizada CON ruido\n",
    "## Se varía la amplitud del ruido para una misma realización del ruido aleatorio."
   ]
  },
  {
   "cell_type": "markdown",
   "metadata": {},
   "source": [
    "La idea es comparar como varía la solución sin cambiar la realización del ruido. \n",
    "Por esto primero se crea un vector de ruido iid con varianza = 1 y luego se amplifica este por las amplitudes mencionadas. \n",
    "\n",
    "Para poder tener control sobre los numeros aleatorios y poder hacer el experimento repetible, fijaremos la semilla del generador de numeros aleatorios en Python\n"
   ]
  },
  {
   "cell_type": "code",
   "execution_count": null,
   "metadata": {},
   "outputs": [],
   "source": [
    "# semilla del generador de numeros aleatorios (use su fecha de nacimiento DDMMYYYY)\n",
    "seed = 28101979\n",
    "NP.random.seed(seed)\n",
    "\n",
    "# calculo el ruido base\n",
    "Ndata = len(d_syn)\n",
    "ruidoBase = NP.random.randn(Ndata,1)\n",
    "\n",
    "# Amplitudes del ruido a considerar en [ms]\n",
    "AmplitudRuido = [0, 0.005, 0.02, 0.04] # notar que la amplitud del ruido es mucho menor que los tiempos\n",
    "                                        # de viaje medidos (TV varía entre 20 y 40 ms)\n",
    "    \n"
   ]
  },
  {
   "cell_type": "code",
   "execution_count": null,
   "metadata": {},
   "outputs": [],
   "source": [
    "# realizar las inversiones con diferentes amplitudes de la realización del ruido. \n",
    "m_MCS_ruido = []\n",
    "for A in AmplitudRuido:\n",
    "    d_ruido = d_syn + A * ruidoBase\n",
    "    m_MCS_ruido.append( GF5013.optim.MinCuad.MinCuadSimple(G, d_ruido)['m'] )\n",
    "    "
   ]
  },
  {
   "cell_type": "code",
   "execution_count": null,
   "metadata": {
    "scrolled": false
   },
   "outputs": [],
   "source": [
    "# graficar las 4 soluciones\n",
    "fig = plt.figure(3)\n",
    "fig.clear()\n",
    "fig.set_size_inches(9.8, 10.0, forward = True)\n",
    "\n",
    "\n",
    "for i in range(0, len(AmplitudRuido)):\n",
    "    A = AmplitudRuido[i]\n",
    "    m_est = m_MCS_ruido[i]\n",
    "    Vel_est = 1/m_est # se grafica la velocidad ( no la lentitud)\n",
    "    colorlim = None #[3,5]\n",
    "    \n",
    "    ax = plt.subplot(2,2,i+1)\n",
    "    \n",
    "    ylabel = 'Z [m]'\n",
    "  \n",
    "    fig, ax = Tarea2.Mesh.plotRectMeshField(Vel_est, mesh, fig, ax , colorlim = colorlim, \\\n",
    "                                 title = \"Amp. Ruido = {:.4f}\".format(A),\\\n",
    "                                 colorbar_label = ' Estimated Velocity ', xlabel = 'X [m]',\\\n",
    "                                 ylabel = ylabel, colormap = 'gray', colorbar_orientation = 'vertical')\n",
    "\n",
    "\n",
    "fig.show()"
   ]
  },
  {
   "cell_type": "markdown",
   "metadata": {
    "collapsed": true
   },
   "source": [
    "## Comentarios: "
   ]
  },
  {
   "cell_type": "markdown",
   "metadata": {
    "collapsed": true
   },
   "source": [
    "# -----------------------------------------------------\n",
    "## P3.c Inversión no regularizada CON ruido\n",
    "## Se mantiene constante la amplitud del ruido en A = 0.02 pero se varía la realización del ruido aleatorio"
   ]
  },
  {
   "cell_type": "code",
   "execution_count": null,
   "metadata": {},
   "outputs": [],
   "source": [
    "# realizar las inversiones con diferentes amplitudes de la realización del ruido. \n",
    "m_MCS_ruidoVar = []\n",
    "A = 0.02\n",
    "# se reinicia el generador de numeros aleatorios de manera que la primera solución es igual a la de la \n",
    "# parte anterior con A = 0.02\n",
    "NP.random.seed(seed)\n",
    "# Numero de inversiones:\n",
    "Ninv = 4\n",
    "\n",
    "for i in range(0,Ninv):\n",
    "    d_ruido = d_syn + A * NP.random.randn(Ndata, 1)\n",
    "    m_MCS_ruidoVar.append( GF5013.optim.MinCuad.MinCuadSimple(G,d_ruido)['m'] )\n",
    "    \n",
    "    "
   ]
  },
  {
   "cell_type": "code",
   "execution_count": null,
   "metadata": {
    "scrolled": false
   },
   "outputs": [],
   "source": [
    "# graficar las 4 soluciones\n",
    "fig = plt.figure(4)\n",
    "fig.clear()\n",
    "fig.set_size_inches(9.8, 10.0, forward = True)\n",
    "\n",
    "colorlim = None #[MinVel, MaxVel]\n",
    "\n",
    "\n",
    "for i in range(0, Ninv):\n",
    "    A = A\n",
    "    m_est = m_MCS_ruidoVar[i]\n",
    "    Vel_est = 1/m_est # se grafica la velocidad ( no la lentitud)\n",
    "\n",
    "    \n",
    "    ax = plt.subplot(2,2,i+1)\n",
    "    if i == 0:\n",
    "        ylabel = 'Z [m]'\n",
    "    else:\n",
    "        ylabel = ''\n",
    "    fig, ax = Tarea2.Mesh.plotRectMeshField(Vel_est, mesh, fig, ax , colorlim = colorlim, \\\n",
    "                                 title = \"Amp. Ruido = {:.4f}\".format(A),\\\n",
    "                                 colorbar_label = ' Estimated Velocity ', xlabel = 'X [m]',\\\n",
    "                                 ylabel = ylabel, colormap = 'gray', colorbar_orientation = 'vertical')\n",
    "\n",
    "\n",
    "fig.show()"
   ]
  },
  {
   "cell_type": "markdown",
   "metadata": {
    "collapsed": true
   },
   "source": [
    "## Comentarios Aquí:"
   ]
  },
  {
   "cell_type": "code",
   "execution_count": null,
   "metadata": {},
   "outputs": [],
   "source": []
  },
  {
   "cell_type": "markdown",
   "metadata": {
    "collapsed": true
   },
   "source": [
    "# P2 (d) : Escriba su respuesta aquí"
   ]
  },
  {
   "cell_type": "code",
   "execution_count": null,
   "metadata": {},
   "outputs": [],
   "source": []
  },
  {
   "cell_type": "markdown",
   "metadata": {},
   "source": [
    "# P2 (e) : Escriba su respuesta aquí\n"
   ]
  },
  {
   "cell_type": "code",
   "execution_count": null,
   "metadata": {},
   "outputs": [],
   "source": []
  },
  {
   "cell_type": "code",
   "execution_count": null,
   "metadata": {},
   "outputs": [],
   "source": []
  }
 ],
 "metadata": {
  "kernelspec": {
   "display_name": "Python 3",
   "language": "python",
   "name": "python3"
  },
  "language_info": {
   "codemirror_mode": {
    "name": "ipython",
    "version": 3
   },
   "file_extension": ".py",
   "mimetype": "text/x-python",
   "name": "python",
   "nbconvert_exporter": "python",
   "pygments_lexer": "ipython3",
   "version": "3.7.4"
  }
 },
 "nbformat": 4,
 "nbformat_minor": 2
}
