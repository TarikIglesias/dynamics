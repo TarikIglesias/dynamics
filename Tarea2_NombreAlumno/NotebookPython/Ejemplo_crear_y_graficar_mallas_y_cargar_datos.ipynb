{
 "cells": [
  {
   "cell_type": "markdown",
   "metadata": {},
   "source": [
    "# Ejemplo de como crear y dibujar la grilla a utilizar en el problema de tomografía de la tarea\n",
    "\n",
    "## GF5013 - Metodos Inversos Aplicados a la Geofisica\n",
    "## Primavera 2019\n",
    "Prof. Francisco Hernán Ortega Culaciati \n",
    "\n",
    "ortega.francisco@u.uchile.cl\n",
    "\n",
    "Departamento de Geofísica - FCFM\n",
    "\n",
    "Universidad de Chile\n",
    "\n",
    "Octubre de 2019\n"
   ]
  },
  {
   "cell_type": "raw",
   "metadata": {},
   "source": [
    "# si descomentan este código, al ejecutarlo aparece un botón que permite ocultar todo el \n",
    "# código del notebook y que muestre sólo los resultados.\n",
    "\n",
    "from IPython.display import HTML\n",
    "\n",
    "HTML('''<script>\n",
    "code_show=true; \n",
    "function code_toggle() {\n",
    "if (code_show){\n",
    "$('div.input').hide();\n",
    "} else {\n",
    "$('div.input').show();\n",
    "}\n",
    "code_show = !code_show\n",
    "} \n",
    "$( document ).ready(code_toggle);\n",
    "</script>\n",
    "<form action=\"javascript:code_toggle()\"><input type=\"submit\" value=\"Esconder/Visualizar código fuente\"></form>''')"
   ]
  },
  {
   "cell_type": "code",
   "execution_count": 1,
   "metadata": {},
   "outputs": [],
   "source": [
    "import sys, os  # CAMBIE EL pathTarea2 indicando la ruta completa de la carpeta Tarea2_NombreAlumno en su computador.\n",
    "pathTarea2 = '../'\n",
    "pathPaquetesPython = pathTarea2 + '/PaquetesPython'\n",
    "TomoDataFilename = pathTarea2 + '/datosTomo/datosTomografia.txt'\n",
    "\n",
    "sys.path.append(os.path.abspath(pathPaquetesPython))"
   ]
  },
  {
   "cell_type": "code",
   "execution_count": 2,
   "metadata": {},
   "outputs": [],
   "source": [
    "import matplotlib\n",
    "%matplotlib notebook \n",
    "\n",
    "\n",
    "import matplotlib.pyplot as plt\n",
    "import numpy as NP\n",
    "# descomentar esto es para hacer los plots afuera del notebook\n",
    "#%matplotlib tk  \n",
    "from Tarea2 import Mesh\n",
    "from Tarea2.TomoData import readTravelTimeData as readTTdata\n",
    "from Tarea2 import TomographyModel as Tmodel"
   ]
  },
  {
   "cell_type": "markdown",
   "metadata": {},
   "source": [
    "## Ejemplo para definir malla genérica"
   ]
  },
  {
   "cell_type": "code",
   "execution_count": null,
   "metadata": {},
   "outputs": [],
   "source": [
    "Xmin = -20\n",
    "Xmax = 20\n",
    "Nx = 4\n",
    "Ymin = 10\n",
    "Ymax = 90\n",
    "Ny = 8\n",
    "\n",
    "RM = Mesh.RectangularMesh(Xmin = Xmin, Xmax = Xmax, Nx = Nx, Ymin = Ymin, Ymax = Ymax, Ny = Ny)\n"
   ]
  },
  {
   "cell_type": "markdown",
   "metadata": {},
   "source": [
    "## Dibujar Indices de la Malla"
   ]
  },
  {
   "cell_type": "code",
   "execution_count": null,
   "metadata": {},
   "outputs": [],
   "source": [
    "fig = plt.figure(1)\n",
    "axes = []\n",
    "axes.append( fig.add_subplot(121) )\n",
    "axes.append( fig.add_subplot(122) )\n",
    "\n",
    "Mesh.plotRectMeshIndices(RM, fig, axes[0], element = True, IndexFontSize = 10, \\\n",
    "                         xlabel = 'X', ylabel = 'Y', title = 'IDs de Elementos',\\\n",
    "                         axequal = True)\n",
    "Mesh.plotRectMeshIndices(RM, fig, axes[1], element = False, IndexFontSize = 9, \\\n",
    "                         xlabel = 'X', ylabel = '', title = 'Índices de Elementos',\\\n",
    "                         axequal = True)\n"
   ]
  },
  {
   "cell_type": "code",
   "execution_count": null,
   "metadata": {
    "scrolled": false
   },
   "outputs": [],
   "source": []
  },
  {
   "cell_type": "markdown",
   "metadata": {},
   "source": [
    "## Dibujar un campo escalar en la malla\n"
   ]
  },
  {
   "cell_type": "code",
   "execution_count": null,
   "metadata": {},
   "outputs": [],
   "source": [
    "# field to plot is the number of neighbors for each elements ID\n",
    "F = NP.array([ len(Elem_Neighbors) for Elem_Neighbors in RM.neighbors.values()  ])\n",
    "fig = plt.figure(10)\n",
    "fig.clear()\n",
    "ax = plt.subplot(111)\n",
    "fig, ax = Mesh.plotRectMeshField(F, RM, fig, ax , colorlim = None, \\\n",
    "                                 title = \"Campo es # de vecinos del Elemento\",\\\n",
    "                                 colorbar_label = 'Number of Neighbors', xlabel = 'X', ylabel = 'Y', colormap = 'Spectral_r')\n",
    "fig.show()\n"
   ]
  },
  {
   "cell_type": "code",
   "execution_count": null,
   "metadata": {},
   "outputs": [],
   "source": []
  },
  {
   "cell_type": "code",
   "execution_count": null,
   "metadata": {},
   "outputs": [],
   "source": [
    "F = NP.random.rand(len(RM.ID),1) * 10 # field to plot is random numbers\n",
    "colorlim = [0, 10]\n",
    "colormap = 'jet'\n",
    "fig = plt.figure(11)\n",
    "fig.clear()\n",
    "ax = plt.subplot(111)\n",
    "fig, ax = Mesh.plotRectMeshField(F, RM, fig, ax , colorlim = colorlim, \\\n",
    "                                 title = \"Campo Aleatorio \",\\\n",
    "                                 colorbar_label = 'bla', xlabel = 'X', ylabel = 'Y', \\\n",
    "                                 axequal = True, colormap = colormap)\n",
    "fig.show()"
   ]
  },
  {
   "cell_type": "code",
   "execution_count": null,
   "metadata": {},
   "outputs": [],
   "source": []
  },
  {
   "cell_type": "markdown",
   "metadata": {},
   "source": [
    "## Ejemplo en que se grafica la malla para la tarea con un campo constante, y encima se grafica los rayos rectos a considerar en el experimento de tomografía"
   ]
  },
  {
   "cell_type": "code",
   "execution_count": null,
   "metadata": {},
   "outputs": [],
   "source": [
    "# LEER DATOS TOMOGRAFIA\n",
    "TTdata = readTTdata(TomoDataFilename)\n",
    "# Coordenadas Fuentes\n",
    "xF = TTdata['xF']\n",
    "zF = TTdata['zF']\n",
    "# Coordenadas Receptores\n",
    "xR = TTdata['xR']\n",
    "zR = TTdata['zR']\n",
    "# Tiempo de Viaje\n",
    "TV = TTdata['TV']\n",
    "\n",
    "# Calcular parametros necesarios para definir la malla y instanciar el objeto RectangularMesh\n",
    "Xmin = 0 \n",
    "Xmax = 100\n",
    "Zmin = -200\n",
    "Zmax = 0\n",
    "\n",
    "Nx = 10\n",
    "Nz = 20\n",
    "# inicializar Tmesh (Tomography Mesh) como un Rectangular Mesh\n",
    "Tmesh = Mesh.RectangularMesh(Xmin = Xmin, Xmax = Xmax, Nx = Nx, \\\n",
    "                             Ymin = Zmin, Ymax = Zmax, Ny = Nz)"
   ]
  },
  {
   "cell_type": "code",
   "execution_count": null,
   "metadata": {},
   "outputs": [],
   "source": [
    "# graficar malla con indice\n",
    "\n",
    "fig = plt.figure(30)\n",
    "axes = []\n",
    "axes.append( fig.add_subplot(111) )\n",
    "\n",
    "Mesh.plotRectMeshIndices(Tmesh, fig, axes[0], element = True, IndexFontSize = 8, \\\n",
    "                         xlabel = 'X [m]', ylabel = 'Z [m]', title = 'IDs de Elementos',\\\n",
    "                         axequal = True)"
   ]
  },
  {
   "cell_type": "code",
   "execution_count": null,
   "metadata": {},
   "outputs": [],
   "source": [
    "# graficar malla con rayos del problema de tomografía\n",
    "F = NP.ones(len(Tmesh.ID)) * 0.0 # field to plot is random numbers\n",
    "colorlim = [-1, 1]\n",
    "colormap = 'seismic'\n",
    "plotColorbar = False\n",
    "\n",
    "fig = plt.figure(31)\n",
    "axes = []\n",
    "axes.append( fig.add_subplot(111) )\n",
    "\n",
    "# graficar malla\n",
    "title = 'Problema de Tomografía \\n (Rayos se asumen rectos)'\n",
    "fig, ax = Mesh.plotRectMeshField(F, Tmesh, fig, axes[0] , colorlim = colorlim, \\\n",
    "                                 title = title, \\\n",
    "                                 colorbar = plotColorbar, xlabel = 'X [m]', ylabel = 'Z [m]', \\\n",
    "                                 axequal = True, colormap = colormap, \\\n",
    "                                 edgewidth = 2, edgecolor = 'gray')\n",
    "\n",
    "# graficar rayos\n",
    "for k in range(0, len(xF)):\n",
    "    # dibujar rayos\n",
    "    color = 'green'\n",
    "    if k == 0:\n",
    "        ax.plot([xF[k], xR[k]], [zF[k], zR[k]], '-', linewidth = 0.75, color = color,\\\n",
    "                label = 'Rayos' )\n",
    "    else:\n",
    "        ax.plot([xF[k], xR[k]], [zF[k], zR[k]], '-', linewidth = 0.75, color = color )\n",
    "# dibujar fuente y receptor\n",
    "ax.plot(xF, zF, 'or', markersize = 4, label = 'Fuentes')\n",
    "ax.plot(xR, zR, 'ob', markersize = 4, label = 'Receptores')\n",
    "ax.legend()\n",
    "fig.show()"
   ]
  },
  {
   "cell_type": "code",
   "execution_count": null,
   "metadata": {},
   "outputs": [],
   "source": []
  },
  {
   "cell_type": "markdown",
   "metadata": {
    "collapsed": true
   },
   "source": [
    "## Plot a ray in the mesh along with the length on each mesh element"
   ]
  },
  {
   "cell_type": "code",
   "execution_count": null,
   "metadata": {},
   "outputs": [],
   "source": [
    "# select ray\n",
    "rID = 17 # ray ID\n",
    "fractional_precision = 1E-3\n",
    "\n",
    "# compute ray and lengths\n",
    "ray = Tmodel.RayLinear2D(xF[rID], zF[rID], xR[rID], zR[rID])\n",
    "L, dR = ray.calcMeshRayLength(Tmesh, fractional_precision)\n",
    "\n",
    "colorlim = None\n",
    "colormap = 'hot_r'\n",
    "plotColorbar = True\n",
    "\n",
    "fig = plt.figure(32)\n",
    "axes = []\n",
    "axes.append( fig.add_subplot(111) )\n",
    "\n",
    "# graficar malla\n",
    "title = 'Longitud del rayo ' + str(rID) + ' en cada elemento de la malla \\n (precision = '+ str(dR) +' [m])'\n",
    "fig, ax = Mesh.plotRectMeshField(L, Tmesh, fig, axes[0] , colorlim = colorlim, \\\n",
    "                                 title = title, \\\n",
    "                                 colorbar = plotColorbar, xlabel = 'X [m]', ylabel = 'Z [m]', \\\n",
    "                                 axequal = True, colormap = colormap, \\\n",
    "                                 edgewidth = 1, edgecolor = 'gray', colorbar_label='Length [m]')\n",
    "\n",
    "# plot ray\n",
    "ax.plot([ray.xS, ray.xR], [ray.yS, ray.yR], 'b-o', )\n",
    "\n",
    "fig.show()\n"
   ]
  },
  {
   "cell_type": "markdown",
   "metadata": {},
   "source": [
    "# Probar el laplaciano con la funcion de abajo (cambiar tipo de cell a Code, una vez que haya programado la función order_2() )"
   ]
  },
  {
   "cell_type": "raw",
   "metadata": {
    "scrolled": false
   },
   "source": [
    "Xmin = -20\n",
    "Xmax = 20\n",
    "Nx = 4\n",
    "Ymin = 10\n",
    "Ymax = 50\n",
    "Ny = 4\n",
    "\n",
    "RMesh = Mesh.RectangularMesh(Xmin = Xmin, Xmax = Xmax, Nx = Nx, Ymin = Ymin, Ymax = Ymax, Ny = Ny)\n",
    "\n",
    "fig = plt.figure(40)\n",
    "axes = []\n",
    "axes.append( fig.add_subplot(111) )\n",
    "import Tarea2\n",
    "Lap = Tarea2.Mesh.TikhonovReg.order_2(RMesh)[0]\n",
    "\n",
    "F = Lap[4,:]\n",
    "\n",
    "colormap = 'seismic'\n",
    "colorlim = [-4,4]\n",
    "fig, ax = Mesh.plotRectMeshField(F, RMesh, fig, axes[0] , colorlim = colorlim, \\\n",
    "                                 title = title, \\\n",
    "                                 colorbar = plotColorbar, xlabel = 'X [m]', ylabel = 'Z [m]', \\\n",
    "                                 axequal = True, colormap = colormap, \\\n",
    "                                 edgewidth = 1, edgecolor = 'gray', colorbar_label='Length [m]')\n",
    "\n",
    "\n",
    "# graficar el laplaciano de una malla simple: \n"
   ]
  },
  {
   "cell_type": "code",
   "execution_count": null,
   "metadata": {},
   "outputs": [],
   "source": []
  },
  {
   "cell_type": "code",
   "execution_count": null,
   "metadata": {},
   "outputs": [],
   "source": []
  },
  {
   "cell_type": "code",
   "execution_count": null,
   "metadata": {},
   "outputs": [],
   "source": []
  }
 ],
 "metadata": {
  "kernelspec": {
   "display_name": "Python 3",
   "language": "python",
   "name": "python3"
  },
  "language_info": {
   "codemirror_mode": {
    "name": "ipython",
    "version": 3
   },
   "file_extension": ".py",
   "mimetype": "text/x-python",
   "name": "python",
   "nbconvert_exporter": "python",
   "pygments_lexer": "ipython3",
   "version": "3.7.3"
  }
 },
 "nbformat": 4,
 "nbformat_minor": 2
}
