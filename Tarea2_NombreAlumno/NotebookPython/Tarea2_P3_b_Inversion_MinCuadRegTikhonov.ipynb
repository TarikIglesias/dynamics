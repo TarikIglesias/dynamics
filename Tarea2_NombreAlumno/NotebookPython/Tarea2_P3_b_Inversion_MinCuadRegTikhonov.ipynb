{
 "cells": [
  {
   "cell_type": "markdown",
   "metadata": {},
   "source": [
    "# Pregunta 3  Tarea 2\n",
    "# Segunda Parte: Correr Inversión de Minimos Cuadrados Regularizados\n",
    "\n",
    "## GF5013 - Metodos Inversos Aplicados a la Geofisica\n",
    "## Primavera 2019\n",
    "### Prof. Francisco Hernán Ortega Culaciati \n",
    "### ortega.francisco@uchile.cl\n",
    "### Departamento de Geofísica - FCFM\n",
    "### Universidad de Chile\n",
    "### Octubre de 2019\n",
    "\n",
    "Nombre Alumno: XXXX YYYY"
   ]
  },
  {
   "cell_type": "markdown",
   "metadata": {},
   "source": [
    "# Desarrollo ecuaciones P3 (b) : Resolución del problema general de mínimos cuadrados regularizado\n",
    "\n",
    "escriba aquí la explicación (con ecuaciones) "
   ]
  },
  {
   "cell_type": "raw",
   "metadata": {},
   "source": [
    "from IPython.display import HTML\n",
    "\n",
    "HTML('''<script>\n",
    "code_show=true; \n",
    "function code_toggle() {\n",
    "if (code_show){\n",
    "$('div.input').hide();\n",
    "} else {\n",
    "$('div.input').show();\n",
    "}\n",
    "code_show = !code_show\n",
    "} \n",
    "$( document ).ready(code_toggle);\n",
    "</script>\n",
    "<form action=\"javascript:code_toggle()\"><input type=\"submit\" value=\"Esconder/Visualizar código fuente\"></form>''')"
   ]
  },
  {
   "cell_type": "code",
   "execution_count": null,
   "metadata": {},
   "outputs": [],
   "source": [
    "import sys, os # modifique el pathTarea2\n",
    "pathTarea2 = '../'\n",
    "pathPaquetesPython = pathTarea2 + '/PaquetesPython'\n",
    "TomoDataFilename = pathTarea2 + '/datosTomo/datosTomografia.txt'\n",
    "\n",
    "sys.path.append(os.path.abspath(pathPaquetesPython))\n",
    "\n",
    "\n"
   ]
  },
  {
   "cell_type": "code",
   "execution_count": null,
   "metadata": {},
   "outputs": [],
   "source": [
    "import matplotlib\n",
    "# descomentar esto es para hacer los plots interactivos en el notebook\n",
    "%matplotlib notebook \n",
    "# descomentar esto es para hacer los plots afuera del notebook\n",
    "#%matplotlib tk  \n",
    "import matplotlib.pyplot as plt\n",
    "import numpy as NP\n",
    "\n",
    "from Tarea2.TomoData import readTravelTimeData as readTTdata\n",
    "from Tarea2 import TomographyModel as Tmodel\n",
    "import Tarea2\n",
    "import GF5013\n",
    "import pickle"
   ]
  },
  {
   "cell_type": "markdown",
   "metadata": {},
   "source": [
    "## Cargar los datos necesarios para la inversión"
   ]
  },
  {
   "cell_type": "code",
   "execution_count": null,
   "metadata": {},
   "outputs": [],
   "source": [
    "PickleFilename = \"Tomo_pre_inversion_data.pickle\"\n",
    "PickleFile = open(PickleFilename, 'rb')\n",
    "dataPreInversion = pickle.load(PickleFile)\n",
    "PickleFile.close()\n",
    "G = dataPreInversion['G']\n",
    "d_syn = dataPreInversion['d_syn']\n",
    "Cx = dataPreInversion['Cx']\n",
    "m_syn = dataPreInversion['m_syn']\n",
    "TTdata = dataPreInversion['TTdata']\n",
    "mesh = dataPreInversion['mesh'] \n",
    "H = dataPreInversion['H'] \n",
    "Wh = dataPreInversion['Wh']\n",
    "ho = dataPreInversion['ho']\n",
    "inv_Cx = dataPreInversion['inv_Cx']\n",
    "Wx = dataPreInversion['Wx'] \n",
    "\n",
    "Ndata, Npar = # COMPLETAR\n",
    "\n",
    "# semilla del generador de numeros aleatorios (use su fecha de nacimiento DDMMYYYY)\n",
    "seed = 28101979\n",
    "NP.random.seed(seed)"
   ]
  },
  {
   "cell_type": "markdown",
   "metadata": {},
   "source": [
    "## Definir parámetros para la inversión"
   ]
  },
  {
   "cell_type": "code",
   "execution_count": null,
   "metadata": {},
   "outputs": [],
   "source": [
    "TypeOfData = 'Syn' # set to 'Syn' if doing inversion with synthetic data\n",
    "                   # set to 'Tomo' if doing the inversion with Tomography experiment data (from the datafile)\n",
    "\n",
    "if TypeOfData == 'Syn': # does the inversion with sythetic data with added noise\n",
    "    # se usará los datos sintéticos más un ruido gaussiano con desviación estándar A = 1 [ms]\n",
    "    A = 1\n",
    "    NP.random.seed(seed)\n",
    "    ruido = A * NP.random.randn(Ndata,1)\n",
    "    d = d_syn + ruido\n",
    "\n",
    "elif TypeOfData == 'Tomo': # does the inversion using the data from the Tomography experiment ()\n",
    "    # si por el contrario desea hacer la inversión con datos reales, descomentar la linea siguiente.\n",
    "    d = TTdata['TV'].reshape((Ndata,1))\n",
    "\n",
    "else:\n",
    "    raise ValueError('Type of data does not exist...')\n",
    "    \n",
    "    \n",
    "# definir el rango de valores para la constante de amortiguamiento\n",
    "epsilonMin = 1E-4\n",
    "epsilonMax = 1E4\n",
    "Nepsilons = 200 # cambie esto a un numero mas bajo (ej 30)  mientras esta programando los codigos, use 200 al final.\n",
    "EPSILONS = NP.logspace(NP.log10(epsilonMin), NP.log10(epsilonMax), Nepsilons)\n",
    "\n"
   ]
  },
  {
   "cell_type": "markdown",
   "metadata": {},
   "source": [
    "## Realizar la inversión para todos los epsilons.\n"
   ]
  },
  {
   "cell_type": "code",
   "execution_count": null,
   "metadata": {},
   "outputs": [],
   "source": [
    "# para no ocupar demasiada memoria se guardará sólo el modelo estimado (y no las matrices de covarianza a posteriori)\n",
    "# para todos los valores de epsilon\n",
    "m_estimados = NP.zeros((Npar, Nepsilons))\n",
    "\n",
    "for i in range(0, Nepsilons):\n",
    "    epsilon = EPSILONS[i]\n",
    "    #print([i, epsilon])\n",
    "    m_est = GF5013.optim.MinCuadRegWeights.MinCuadRegWeights(G, d, Wx, H, ho, Wh, epsilon)['m']\n",
    "    m_estimados[:,i] = m_est.squeeze()"
   ]
  },
  {
   "cell_type": "code",
   "execution_count": null,
   "metadata": {
    "scrolled": false
   },
   "outputs": [],
   "source": []
  },
  {
   "cell_type": "code",
   "execution_count": null,
   "metadata": {},
   "outputs": [],
   "source": []
  },
  {
   "cell_type": "markdown",
   "metadata": {},
   "source": [
    "## Guardar los resultados de la inversión para procesarlos en otro notebook\n",
    "(Solo necesito guardar las variables adicionales que se crearon en este notebook)\n"
   ]
  },
  {
   "cell_type": "code",
   "execution_count": null,
   "metadata": {},
   "outputs": [],
   "source": [
    "# nombre del archivo \"pickle\" donde guardar los datos de interés\n",
    "PickleFilename = \"Tomo_Result_Inversion.pickle\"\n",
    "\n",
    "# variable a guardar es un diccionario con G, d y la malla\n",
    "data2save = {}\n",
    "data2save['H'] = H\n",
    "data2save['ho'] = ho\n",
    "data2save['Wh'] = Wh\n",
    "\n",
    "data2save['Wx'] = Wx\n",
    "data2save['d'] = d\n",
    "data2save['G'] = G\n",
    "\n",
    "data2save['EPSILONS'] = EPSILONS \n",
    "data2save['m_estimados'] = m_estimados \n",
    "\n",
    "data2save['mesh'] = mesh\n",
    "\n",
    "# save the dictionray in the file.\n",
    "PickleFile = open(PickleFilename, 'wb') # must be a binary file w: writable, b: binary\n",
    "pickle.dump(data2save, PickleFile, pickle.HIGHEST_PROTOCOL)\n",
    "PickleFile.close()\n",
    "\n"
   ]
  },
  {
   "cell_type": "code",
   "execution_count": null,
   "metadata": {},
   "outputs": [],
   "source": []
  },
  {
   "cell_type": "code",
   "execution_count": null,
   "metadata": {},
   "outputs": [],
   "source": [
    "# Aca se puede graficar una solución de la inversión, solo por deporte se los dejo!!!"
   ]
  },
  {
   "cell_type": "code",
   "execution_count": null,
   "metadata": {},
   "outputs": [],
   "source": [
    "I_inversion = 148\n",
    "F = 1./m_estimados[:, I_inversion]  \n",
    "colorlim = [0, NP.max(F)]\n",
    "fig = plt.figure(2)\n",
    "fig.clear()\n",
    "ax = plt.subplot(111)\n",
    "fig, ax = Tarea2.Mesh.plotRectMeshField(F, mesh, fig, ax , colorlim = None, \\\n",
    "                                 title = \"Modelo Estimado\",\\\n",
    "                                 colorbar_label = 'Estimated Velocity ', xlabel = 'X [m]',\\\n",
    "                                 ylabel = 'Y [m]', colormap = 'gray')\n",
    "fig.show()"
   ]
  },
  {
   "cell_type": "code",
   "execution_count": null,
   "metadata": {},
   "outputs": [],
   "source": []
  },
  {
   "cell_type": "code",
   "execution_count": null,
   "metadata": {
    "scrolled": false
   },
   "outputs": [],
   "source": []
  },
  {
   "cell_type": "code",
   "execution_count": null,
   "metadata": {},
   "outputs": [],
   "source": []
  },
  {
   "cell_type": "code",
   "execution_count": null,
   "metadata": {},
   "outputs": [],
   "source": []
  },
  {
   "cell_type": "code",
   "execution_count": null,
   "metadata": {},
   "outputs": [],
   "source": []
  },
  {
   "cell_type": "code",
   "execution_count": null,
   "metadata": {},
   "outputs": [],
   "source": []
  },
  {
   "cell_type": "code",
   "execution_count": null,
   "metadata": {
    "scrolled": true
   },
   "outputs": [],
   "source": []
  },
  {
   "cell_type": "code",
   "execution_count": null,
   "metadata": {},
   "outputs": [],
   "source": []
  }
 ],
 "metadata": {
  "kernelspec": {
   "display_name": "Python 3",
   "language": "python",
   "name": "python3"
  },
  "language_info": {
   "codemirror_mode": {
    "name": "ipython",
    "version": 3
   },
   "file_extension": ".py",
   "mimetype": "text/x-python",
   "name": "python",
   "nbconvert_exporter": "python",
   "pygments_lexer": "ipython3",
   "version": "3.7.4"
  }
 },
 "nbformat": 4,
 "nbformat_minor": 2
}
